{
  "nbformat": 4,
  "nbformat_minor": 0,
  "metadata": {
    "colab": {
      "provenance": []
    },
    "kernelspec": {
      "name": "python3",
      "display_name": "Python 3"
    },
    "language_info": {
      "name": "python"
    }
  },
  "cells": [
    {
      "cell_type": "code",
      "source": [
        "!pip install yfinance"
      ],
      "metadata": {
        "colab": {
          "base_uri": "https://localhost:8080/"
        },
        "id": "bLzJAfwRUCsd",
        "outputId": "64f1d595-0f51-4e58-ee7d-11c114d9e816"
      },
      "execution_count": null,
      "outputs": [
        {
          "output_type": "stream",
          "name": "stdout",
          "text": [
            "Looking in indexes: https://pypi.org/simple, https://us-python.pkg.dev/colab-wheels/public/simple/\n",
            "Requirement already satisfied: yfinance in /usr/local/lib/python3.9/dist-packages (0.2.13)\n",
            "Requirement already satisfied: lxml>=4.9.1 in /usr/local/lib/python3.9/dist-packages (from yfinance) (4.9.2)\n",
            "Requirement already satisfied: beautifulsoup4>=4.11.1 in /usr/local/lib/python3.9/dist-packages (from yfinance) (4.11.2)\n",
            "Requirement already satisfied: requests>=2.26 in /usr/local/lib/python3.9/dist-packages (from yfinance) (2.27.1)\n",
            "Requirement already satisfied: numpy>=1.16.5 in /usr/local/lib/python3.9/dist-packages (from yfinance) (1.22.4)\n",
            "Requirement already satisfied: pandas>=1.3.0 in /usr/local/lib/python3.9/dist-packages (from yfinance) (1.4.4)\n",
            "Requirement already satisfied: cryptography>=3.3.2 in /usr/local/lib/python3.9/dist-packages (from yfinance) (39.0.2)\n",
            "Requirement already satisfied: frozendict>=2.3.4 in /usr/local/lib/python3.9/dist-packages (from yfinance) (2.3.6)\n",
            "Requirement already satisfied: appdirs>=1.4.4 in /usr/local/lib/python3.9/dist-packages (from yfinance) (1.4.4)\n",
            "Requirement already satisfied: html5lib>=1.1 in /usr/local/lib/python3.9/dist-packages (from yfinance) (1.1)\n",
            "Requirement already satisfied: multitasking>=0.0.7 in /usr/local/lib/python3.9/dist-packages (from yfinance) (0.0.11)\n",
            "Requirement already satisfied: pytz>=2022.5 in /usr/local/lib/python3.9/dist-packages (from yfinance) (2022.7.1)\n",
            "Requirement already satisfied: soupsieve>1.2 in /usr/local/lib/python3.9/dist-packages (from beautifulsoup4>=4.11.1->yfinance) (2.4)\n",
            "Requirement already satisfied: cffi>=1.12 in /usr/local/lib/python3.9/dist-packages (from cryptography>=3.3.2->yfinance) (1.15.1)\n",
            "Requirement already satisfied: six>=1.9 in /usr/local/lib/python3.9/dist-packages (from html5lib>=1.1->yfinance) (1.16.0)\n",
            "Requirement already satisfied: webencodings in /usr/local/lib/python3.9/dist-packages (from html5lib>=1.1->yfinance) (0.5.1)\n",
            "Requirement already satisfied: python-dateutil>=2.8.1 in /usr/local/lib/python3.9/dist-packages (from pandas>=1.3.0->yfinance) (2.8.2)\n",
            "Requirement already satisfied: charset-normalizer~=2.0.0 in /usr/local/lib/python3.9/dist-packages (from requests>=2.26->yfinance) (2.0.12)\n",
            "Requirement already satisfied: idna<4,>=2.5 in /usr/local/lib/python3.9/dist-packages (from requests>=2.26->yfinance) (3.4)\n",
            "Requirement already satisfied: certifi>=2017.4.17 in /usr/local/lib/python3.9/dist-packages (from requests>=2.26->yfinance) (2022.12.7)\n",
            "Requirement already satisfied: urllib3<1.27,>=1.21.1 in /usr/local/lib/python3.9/dist-packages (from requests>=2.26->yfinance) (1.26.15)\n",
            "Requirement already satisfied: pycparser in /usr/local/lib/python3.9/dist-packages (from cffi>=1.12->cryptography>=3.3.2->yfinance) (2.21)\n"
          ]
        }
      ]
    },
    {
      "cell_type": "code",
      "source": [
        "start_date = '2021-01-01'\n",
        "end_date = '2022-01-01'\n",
        "import pandas as pd\n",
        "tickers_list = ['AAPL', 'NKE', 'IBM', 'GOOGL','AXP','AMZN']\n",
        "\n",
        "# Fetch the data\n",
        "import yfinance as yf\n",
        "data = yf.download(tickers_list,start_date,end_date)['Adj Close']\n",
        "\n",
        "# Print first 5 rows of the data\n",
        "print(data.head())"
      ],
      "metadata": {
        "colab": {
          "base_uri": "https://localhost:8080/"
        },
        "id": "eW9J_z29pIbO",
        "outputId": "bc72e4e5-c269-42fd-bfcd-19cf21284767"
      },
      "execution_count": null,
      "outputs": [
        {
          "output_type": "stream",
          "name": "stdout",
          "text": [
            "[*********************100%***********************]  6 of 6 completed\n",
            "                  AAPL        AMZN         AXP      GOOGL         IBM  \\\n",
            "Date                                                                    \n",
            "2021-01-04  127.679993  159.331497  114.787941  86.306503  106.178673   \n",
            "2021-01-05  129.258606  160.925507  115.400589  87.002502  108.063393   \n",
            "2021-01-06  124.907562  156.919006  119.669632  86.143997  110.761986   \n",
            "2021-01-07  129.169815  158.108002  118.723045  88.717003  110.504982   \n",
            "2021-01-08  130.284714  159.134995  118.840141  89.891502  110.110901   \n",
            "\n",
            "                   NKE  \n",
            "Date                    \n",
            "2021-01-04  137.185104  \n",
            "2021-01-05  138.291580  \n",
            "2021-01-06  139.388290  \n",
            "2021-01-07  141.934189  \n",
            "2021-01-08  143.305038  \n"
          ]
        }
      ]
    },
    {
      "cell_type": "code",
      "source": [
        "data"
      ],
      "metadata": {
        "colab": {
          "base_uri": "https://localhost:8080/",
          "height": 455
        },
        "id": "M5cRRzNzwhba",
        "outputId": "80548904-a68c-40be-8cf2-b2e419bd954a"
      },
      "execution_count": null,
      "outputs": [
        {
          "output_type": "execute_result",
          "data": {
            "text/plain": [
              "                  AAPL        AMZN         AXP       GOOGL         IBM  \\\n",
              "Date                                                                     \n",
              "2021-01-04  127.679993  159.331497  114.787941   86.306503  106.178673   \n",
              "2021-01-05  129.258606  160.925507  115.400589   87.002502  108.063393   \n",
              "2021-01-06  124.907562  156.919006  119.669632   86.143997  110.761986   \n",
              "2021-01-07  129.169815  158.108002  118.723045   88.717003  110.504982   \n",
              "2021-01-08  130.284714  159.134995  118.840141   89.891502  110.110901   \n",
              "...                ...         ...         ...         ...         ...   \n",
              "2021-12-27  179.016129  169.669495  161.724579  147.906494  123.879158   \n",
              "2021-12-28  177.983688  170.660995  161.744247  146.686996  124.829758   \n",
              "2021-12-29  178.073029  169.201004  161.173676  146.654999  125.507423   \n",
              "2021-12-30  176.901627  168.644501  161.498322  146.200500  126.034485   \n",
              "2021-12-31  176.276230  166.716995  160.947388  144.852005  125.799179   \n",
              "\n",
              "                   NKE  \n",
              "Date                    \n",
              "2021-01-04  137.185104  \n",
              "2021-01-05  138.291580  \n",
              "2021-01-06  139.388290  \n",
              "2021-01-07  141.934189  \n",
              "2021-01-08  143.305038  \n",
              "...                ...  \n",
              "2021-12-27  165.327255  \n",
              "2021-12-28  164.182846  \n",
              "2021-12-29  166.511108  \n",
              "2021-12-30  165.238480  \n",
              "2021-12-31  164.429474  \n",
              "\n",
              "[252 rows x 6 columns]"
            ],
            "text/html": [
              "\n",
              "  <div id=\"df-2b6e34ec-cb86-4a4b-ac18-2b98e9f1f027\">\n",
              "    <div class=\"colab-df-container\">\n",
              "      <div>\n",
              "<style scoped>\n",
              "    .dataframe tbody tr th:only-of-type {\n",
              "        vertical-align: middle;\n",
              "    }\n",
              "\n",
              "    .dataframe tbody tr th {\n",
              "        vertical-align: top;\n",
              "    }\n",
              "\n",
              "    .dataframe thead th {\n",
              "        text-align: right;\n",
              "    }\n",
              "</style>\n",
              "<table border=\"1\" class=\"dataframe\">\n",
              "  <thead>\n",
              "    <tr style=\"text-align: right;\">\n",
              "      <th></th>\n",
              "      <th>AAPL</th>\n",
              "      <th>AMZN</th>\n",
              "      <th>AXP</th>\n",
              "      <th>GOOGL</th>\n",
              "      <th>IBM</th>\n",
              "      <th>NKE</th>\n",
              "    </tr>\n",
              "    <tr>\n",
              "      <th>Date</th>\n",
              "      <th></th>\n",
              "      <th></th>\n",
              "      <th></th>\n",
              "      <th></th>\n",
              "      <th></th>\n",
              "      <th></th>\n",
              "    </tr>\n",
              "  </thead>\n",
              "  <tbody>\n",
              "    <tr>\n",
              "      <th>2021-01-04</th>\n",
              "      <td>127.679993</td>\n",
              "      <td>159.331497</td>\n",
              "      <td>114.787941</td>\n",
              "      <td>86.306503</td>\n",
              "      <td>106.178673</td>\n",
              "      <td>137.185104</td>\n",
              "    </tr>\n",
              "    <tr>\n",
              "      <th>2021-01-05</th>\n",
              "      <td>129.258606</td>\n",
              "      <td>160.925507</td>\n",
              "      <td>115.400589</td>\n",
              "      <td>87.002502</td>\n",
              "      <td>108.063393</td>\n",
              "      <td>138.291580</td>\n",
              "    </tr>\n",
              "    <tr>\n",
              "      <th>2021-01-06</th>\n",
              "      <td>124.907562</td>\n",
              "      <td>156.919006</td>\n",
              "      <td>119.669632</td>\n",
              "      <td>86.143997</td>\n",
              "      <td>110.761986</td>\n",
              "      <td>139.388290</td>\n",
              "    </tr>\n",
              "    <tr>\n",
              "      <th>2021-01-07</th>\n",
              "      <td>129.169815</td>\n",
              "      <td>158.108002</td>\n",
              "      <td>118.723045</td>\n",
              "      <td>88.717003</td>\n",
              "      <td>110.504982</td>\n",
              "      <td>141.934189</td>\n",
              "    </tr>\n",
              "    <tr>\n",
              "      <th>2021-01-08</th>\n",
              "      <td>130.284714</td>\n",
              "      <td>159.134995</td>\n",
              "      <td>118.840141</td>\n",
              "      <td>89.891502</td>\n",
              "      <td>110.110901</td>\n",
              "      <td>143.305038</td>\n",
              "    </tr>\n",
              "    <tr>\n",
              "      <th>...</th>\n",
              "      <td>...</td>\n",
              "      <td>...</td>\n",
              "      <td>...</td>\n",
              "      <td>...</td>\n",
              "      <td>...</td>\n",
              "      <td>...</td>\n",
              "    </tr>\n",
              "    <tr>\n",
              "      <th>2021-12-27</th>\n",
              "      <td>179.016129</td>\n",
              "      <td>169.669495</td>\n",
              "      <td>161.724579</td>\n",
              "      <td>147.906494</td>\n",
              "      <td>123.879158</td>\n",
              "      <td>165.327255</td>\n",
              "    </tr>\n",
              "    <tr>\n",
              "      <th>2021-12-28</th>\n",
              "      <td>177.983688</td>\n",
              "      <td>170.660995</td>\n",
              "      <td>161.744247</td>\n",
              "      <td>146.686996</td>\n",
              "      <td>124.829758</td>\n",
              "      <td>164.182846</td>\n",
              "    </tr>\n",
              "    <tr>\n",
              "      <th>2021-12-29</th>\n",
              "      <td>178.073029</td>\n",
              "      <td>169.201004</td>\n",
              "      <td>161.173676</td>\n",
              "      <td>146.654999</td>\n",
              "      <td>125.507423</td>\n",
              "      <td>166.511108</td>\n",
              "    </tr>\n",
              "    <tr>\n",
              "      <th>2021-12-30</th>\n",
              "      <td>176.901627</td>\n",
              "      <td>168.644501</td>\n",
              "      <td>161.498322</td>\n",
              "      <td>146.200500</td>\n",
              "      <td>126.034485</td>\n",
              "      <td>165.238480</td>\n",
              "    </tr>\n",
              "    <tr>\n",
              "      <th>2021-12-31</th>\n",
              "      <td>176.276230</td>\n",
              "      <td>166.716995</td>\n",
              "      <td>160.947388</td>\n",
              "      <td>144.852005</td>\n",
              "      <td>125.799179</td>\n",
              "      <td>164.429474</td>\n",
              "    </tr>\n",
              "  </tbody>\n",
              "</table>\n",
              "<p>252 rows × 6 columns</p>\n",
              "</div>\n",
              "      <button class=\"colab-df-convert\" onclick=\"convertToInteractive('df-2b6e34ec-cb86-4a4b-ac18-2b98e9f1f027')\"\n",
              "              title=\"Convert this dataframe to an interactive table.\"\n",
              "              style=\"display:none;\">\n",
              "        \n",
              "  <svg xmlns=\"http://www.w3.org/2000/svg\" height=\"24px\"viewBox=\"0 0 24 24\"\n",
              "       width=\"24px\">\n",
              "    <path d=\"M0 0h24v24H0V0z\" fill=\"none\"/>\n",
              "    <path d=\"M18.56 5.44l.94 2.06.94-2.06 2.06-.94-2.06-.94-.94-2.06-.94 2.06-2.06.94zm-11 1L8.5 8.5l.94-2.06 2.06-.94-2.06-.94L8.5 2.5l-.94 2.06-2.06.94zm10 10l.94 2.06.94-2.06 2.06-.94-2.06-.94-.94-2.06-.94 2.06-2.06.94z\"/><path d=\"M17.41 7.96l-1.37-1.37c-.4-.4-.92-.59-1.43-.59-.52 0-1.04.2-1.43.59L10.3 9.45l-7.72 7.72c-.78.78-.78 2.05 0 2.83L4 21.41c.39.39.9.59 1.41.59.51 0 1.02-.2 1.41-.59l7.78-7.78 2.81-2.81c.8-.78.8-2.07 0-2.86zM5.41 20L4 18.59l7.72-7.72 1.47 1.35L5.41 20z\"/>\n",
              "  </svg>\n",
              "      </button>\n",
              "      \n",
              "  <style>\n",
              "    .colab-df-container {\n",
              "      display:flex;\n",
              "      flex-wrap:wrap;\n",
              "      gap: 12px;\n",
              "    }\n",
              "\n",
              "    .colab-df-convert {\n",
              "      background-color: #E8F0FE;\n",
              "      border: none;\n",
              "      border-radius: 50%;\n",
              "      cursor: pointer;\n",
              "      display: none;\n",
              "      fill: #1967D2;\n",
              "      height: 32px;\n",
              "      padding: 0 0 0 0;\n",
              "      width: 32px;\n",
              "    }\n",
              "\n",
              "    .colab-df-convert:hover {\n",
              "      background-color: #E2EBFA;\n",
              "      box-shadow: 0px 1px 2px rgba(60, 64, 67, 0.3), 0px 1px 3px 1px rgba(60, 64, 67, 0.15);\n",
              "      fill: #174EA6;\n",
              "    }\n",
              "\n",
              "    [theme=dark] .colab-df-convert {\n",
              "      background-color: #3B4455;\n",
              "      fill: #D2E3FC;\n",
              "    }\n",
              "\n",
              "    [theme=dark] .colab-df-convert:hover {\n",
              "      background-color: #434B5C;\n",
              "      box-shadow: 0px 1px 3px 1px rgba(0, 0, 0, 0.15);\n",
              "      filter: drop-shadow(0px 1px 2px rgba(0, 0, 0, 0.3));\n",
              "      fill: #FFFFFF;\n",
              "    }\n",
              "  </style>\n",
              "\n",
              "      <script>\n",
              "        const buttonEl =\n",
              "          document.querySelector('#df-2b6e34ec-cb86-4a4b-ac18-2b98e9f1f027 button.colab-df-convert');\n",
              "        buttonEl.style.display =\n",
              "          google.colab.kernel.accessAllowed ? 'block' : 'none';\n",
              "\n",
              "        async function convertToInteractive(key) {\n",
              "          const element = document.querySelector('#df-2b6e34ec-cb86-4a4b-ac18-2b98e9f1f027');\n",
              "          const dataTable =\n",
              "            await google.colab.kernel.invokeFunction('convertToInteractive',\n",
              "                                                     [key], {});\n",
              "          if (!dataTable) return;\n",
              "\n",
              "          const docLinkHtml = 'Like what you see? Visit the ' +\n",
              "            '<a target=\"_blank\" href=https://colab.research.google.com/notebooks/data_table.ipynb>data table notebook</a>'\n",
              "            + ' to learn more about interactive tables.';\n",
              "          element.innerHTML = '';\n",
              "          dataTable['output_type'] = 'display_data';\n",
              "          await google.colab.output.renderOutput(dataTable, element);\n",
              "          const docLink = document.createElement('div');\n",
              "          docLink.innerHTML = docLinkHtml;\n",
              "          element.appendChild(docLink);\n",
              "        }\n",
              "      </script>\n",
              "    </div>\n",
              "  </div>\n",
              "  "
            ]
          },
          "metadata": {},
          "execution_count": 3
        }
      ]
    },
    {
      "cell_type": "code",
      "source": [],
      "metadata": {
        "id": "wSoSZZ30UBjW"
      },
      "execution_count": null,
      "outputs": []
    },
    {
      "cell_type": "markdown",
      "source": [
        "We are having 5 shares of Apple,Amazon,American Express,Google,IBM,Nike as our  portfolio which we would look to optimize using Modern Portfolio Theory "
      ],
      "metadata": {
        "id": "jQhoeVqkyAZ0"
      }
    },
    {
      "cell_type": "code",
      "source": [
        "returns=data.pct_change()\n",
        "returns.head()"
      ],
      "metadata": {
        "colab": {
          "base_uri": "https://localhost:8080/",
          "height": 237
        },
        "id": "NNDwTB9kxCif",
        "outputId": "ff666751-5691-40b8-dada-66340b503567"
      },
      "execution_count": null,
      "outputs": [
        {
          "output_type": "execute_result",
          "data": {
            "text/plain": [
              "                AAPL      AMZN       AXP     GOOGL       IBM       NKE\n",
              "Date                                                                  \n",
              "2021-01-04       NaN       NaN       NaN       NaN       NaN       NaN\n",
              "2021-01-05  0.012364  0.010004  0.005337  0.008064  0.017750  0.008066\n",
              "2021-01-06 -0.033662 -0.024897  0.036993 -0.009868  0.024972  0.007930\n",
              "2021-01-07  0.034123  0.007577 -0.007910  0.029869 -0.002320  0.018265\n",
              "2021-01-08  0.008631  0.006496  0.000986  0.013239 -0.003566  0.009658"
            ],
            "text/html": [
              "\n",
              "  <div id=\"df-ccca985a-150a-442b-a1da-aa023601534f\">\n",
              "    <div class=\"colab-df-container\">\n",
              "      <div>\n",
              "<style scoped>\n",
              "    .dataframe tbody tr th:only-of-type {\n",
              "        vertical-align: middle;\n",
              "    }\n",
              "\n",
              "    .dataframe tbody tr th {\n",
              "        vertical-align: top;\n",
              "    }\n",
              "\n",
              "    .dataframe thead th {\n",
              "        text-align: right;\n",
              "    }\n",
              "</style>\n",
              "<table border=\"1\" class=\"dataframe\">\n",
              "  <thead>\n",
              "    <tr style=\"text-align: right;\">\n",
              "      <th></th>\n",
              "      <th>AAPL</th>\n",
              "      <th>AMZN</th>\n",
              "      <th>AXP</th>\n",
              "      <th>GOOGL</th>\n",
              "      <th>IBM</th>\n",
              "      <th>NKE</th>\n",
              "    </tr>\n",
              "    <tr>\n",
              "      <th>Date</th>\n",
              "      <th></th>\n",
              "      <th></th>\n",
              "      <th></th>\n",
              "      <th></th>\n",
              "      <th></th>\n",
              "      <th></th>\n",
              "    </tr>\n",
              "  </thead>\n",
              "  <tbody>\n",
              "    <tr>\n",
              "      <th>2021-01-04</th>\n",
              "      <td>NaN</td>\n",
              "      <td>NaN</td>\n",
              "      <td>NaN</td>\n",
              "      <td>NaN</td>\n",
              "      <td>NaN</td>\n",
              "      <td>NaN</td>\n",
              "    </tr>\n",
              "    <tr>\n",
              "      <th>2021-01-05</th>\n",
              "      <td>0.012364</td>\n",
              "      <td>0.010004</td>\n",
              "      <td>0.005337</td>\n",
              "      <td>0.008064</td>\n",
              "      <td>0.017750</td>\n",
              "      <td>0.008066</td>\n",
              "    </tr>\n",
              "    <tr>\n",
              "      <th>2021-01-06</th>\n",
              "      <td>-0.033662</td>\n",
              "      <td>-0.024897</td>\n",
              "      <td>0.036993</td>\n",
              "      <td>-0.009868</td>\n",
              "      <td>0.024972</td>\n",
              "      <td>0.007930</td>\n",
              "    </tr>\n",
              "    <tr>\n",
              "      <th>2021-01-07</th>\n",
              "      <td>0.034123</td>\n",
              "      <td>0.007577</td>\n",
              "      <td>-0.007910</td>\n",
              "      <td>0.029869</td>\n",
              "      <td>-0.002320</td>\n",
              "      <td>0.018265</td>\n",
              "    </tr>\n",
              "    <tr>\n",
              "      <th>2021-01-08</th>\n",
              "      <td>0.008631</td>\n",
              "      <td>0.006496</td>\n",
              "      <td>0.000986</td>\n",
              "      <td>0.013239</td>\n",
              "      <td>-0.003566</td>\n",
              "      <td>0.009658</td>\n",
              "    </tr>\n",
              "  </tbody>\n",
              "</table>\n",
              "</div>\n",
              "      <button class=\"colab-df-convert\" onclick=\"convertToInteractive('df-ccca985a-150a-442b-a1da-aa023601534f')\"\n",
              "              title=\"Convert this dataframe to an interactive table.\"\n",
              "              style=\"display:none;\">\n",
              "        \n",
              "  <svg xmlns=\"http://www.w3.org/2000/svg\" height=\"24px\"viewBox=\"0 0 24 24\"\n",
              "       width=\"24px\">\n",
              "    <path d=\"M0 0h24v24H0V0z\" fill=\"none\"/>\n",
              "    <path d=\"M18.56 5.44l.94 2.06.94-2.06 2.06-.94-2.06-.94-.94-2.06-.94 2.06-2.06.94zm-11 1L8.5 8.5l.94-2.06 2.06-.94-2.06-.94L8.5 2.5l-.94 2.06-2.06.94zm10 10l.94 2.06.94-2.06 2.06-.94-2.06-.94-.94-2.06-.94 2.06-2.06.94z\"/><path d=\"M17.41 7.96l-1.37-1.37c-.4-.4-.92-.59-1.43-.59-.52 0-1.04.2-1.43.59L10.3 9.45l-7.72 7.72c-.78.78-.78 2.05 0 2.83L4 21.41c.39.39.9.59 1.41.59.51 0 1.02-.2 1.41-.59l7.78-7.78 2.81-2.81c.8-.78.8-2.07 0-2.86zM5.41 20L4 18.59l7.72-7.72 1.47 1.35L5.41 20z\"/>\n",
              "  </svg>\n",
              "      </button>\n",
              "      \n",
              "  <style>\n",
              "    .colab-df-container {\n",
              "      display:flex;\n",
              "      flex-wrap:wrap;\n",
              "      gap: 12px;\n",
              "    }\n",
              "\n",
              "    .colab-df-convert {\n",
              "      background-color: #E8F0FE;\n",
              "      border: none;\n",
              "      border-radius: 50%;\n",
              "      cursor: pointer;\n",
              "      display: none;\n",
              "      fill: #1967D2;\n",
              "      height: 32px;\n",
              "      padding: 0 0 0 0;\n",
              "      width: 32px;\n",
              "    }\n",
              "\n",
              "    .colab-df-convert:hover {\n",
              "      background-color: #E2EBFA;\n",
              "      box-shadow: 0px 1px 2px rgba(60, 64, 67, 0.3), 0px 1px 3px 1px rgba(60, 64, 67, 0.15);\n",
              "      fill: #174EA6;\n",
              "    }\n",
              "\n",
              "    [theme=dark] .colab-df-convert {\n",
              "      background-color: #3B4455;\n",
              "      fill: #D2E3FC;\n",
              "    }\n",
              "\n",
              "    [theme=dark] .colab-df-convert:hover {\n",
              "      background-color: #434B5C;\n",
              "      box-shadow: 0px 1px 3px 1px rgba(0, 0, 0, 0.15);\n",
              "      filter: drop-shadow(0px 1px 2px rgba(0, 0, 0, 0.3));\n",
              "      fill: #FFFFFF;\n",
              "    }\n",
              "  </style>\n",
              "\n",
              "      <script>\n",
              "        const buttonEl =\n",
              "          document.querySelector('#df-ccca985a-150a-442b-a1da-aa023601534f button.colab-df-convert');\n",
              "        buttonEl.style.display =\n",
              "          google.colab.kernel.accessAllowed ? 'block' : 'none';\n",
              "\n",
              "        async function convertToInteractive(key) {\n",
              "          const element = document.querySelector('#df-ccca985a-150a-442b-a1da-aa023601534f');\n",
              "          const dataTable =\n",
              "            await google.colab.kernel.invokeFunction('convertToInteractive',\n",
              "                                                     [key], {});\n",
              "          if (!dataTable) return;\n",
              "\n",
              "          const docLinkHtml = 'Like what you see? Visit the ' +\n",
              "            '<a target=\"_blank\" href=https://colab.research.google.com/notebooks/data_table.ipynb>data table notebook</a>'\n",
              "            + ' to learn more about interactive tables.';\n",
              "          element.innerHTML = '';\n",
              "          dataTable['output_type'] = 'display_data';\n",
              "          await google.colab.output.renderOutput(dataTable, element);\n",
              "          const docLink = document.createElement('div');\n",
              "          docLink.innerHTML = docLinkHtml;\n",
              "          element.appendChild(docLink);\n",
              "        }\n",
              "      </script>\n",
              "    </div>\n",
              "  </div>\n",
              "  "
            ]
          },
          "metadata": {},
          "execution_count": 4
        }
      ]
    },
    {
      "cell_type": "markdown",
      "source": [
        ".pct_change helps us to know how that stock moved with respect to the last day by giving us the percentage change.The first column is NAN because we have no column to compare the first column with \n",
        "\n",
        "---\n",
        "Returns of a company is the gain/loss of the portfolio during a particular time frame.We took the timeframe one day with respect to our case\n",
        "\n"
      ],
      "metadata": {
        "id": "ojbNyusLyfFT"
      }
    },
    {
      "cell_type": "markdown",
      "source": [
        "We can see in the head that stocks with negative pct_change fell down in value when they closed on the subsequent day and the positive pct_change signifies that the stocks went up in the value when they closed \n",
        "\n"
      ],
      "metadata": {
        "id": "FmsHWdivyyfC"
      }
    },
    {
      "cell_type": "code",
      "source": [
        "weights_of_portfolio=[0.2,0.1,0.35,0.2,0.1,0.05]\n",
        "return_portfolio=returns.dot(weights_of_portfolio)\n",
        "return_portfolio.head()"
      ],
      "metadata": {
        "colab": {
          "base_uri": "https://localhost:8080/"
        },
        "id": "I6ks4a7dyuCu",
        "outputId": "bf2357c8-8c6b-46d8-d8e7-3db6b4da49c3"
      },
      "execution_count": null,
      "outputs": [
        {
          "output_type": "execute_result",
          "data": {
            "text/plain": [
              "Date\n",
              "2021-01-04         NaN\n",
              "2021-01-05    0.009132\n",
              "2021-01-06    0.004646\n",
              "2021-01-07    0.011469\n",
              "2021-01-08    0.005495\n",
              "dtype: float64"
            ]
          },
          "metadata": {},
          "execution_count": 5
        }
      ]
    },
    {
      "cell_type": "markdown",
      "source": [
        "We will now assign random weights to different assets which will be rectified later to get the best stock portfolio \n",
        "\n",
        "---\n",
        "Return of a portfolio will be return of the assets multiplied the weights given to the particular stock so that we make a balanced portfolio \n",
        "\n",
        "---\n",
        "Keep in Mind that weights_of_portfolio should be equal to 1 \n",
        "\n",
        "\n"
      ],
      "metadata": {
        "id": "PHWf6Iyyzp-f"
      }
    },
    {
      "cell_type": "code",
      "source": [
        "#Risk\n",
        "covariance_portfolio=returns.cov()*252\n"
      ],
      "metadata": {
        "id": "TTp-MKbv0GTR"
      },
      "execution_count": null,
      "outputs": []
    },
    {
      "cell_type": "markdown",
      "source": [
        "For risk management we will use covariance \n",
        "What is covariance:- Co-Variance of stock signifies that the movement of the stock with respect to another stock.Positive Co-Variance means that the stock will rise if the other stock rises,Negative Co-Variance means that the stock A will decrease if Stock B will rise.\n",
        "\n",
        "---\n",
        "For Risk management we will try to get a negative co-variance as to minimize the risk because if one stock will fall down we would have a another stock to rise up so that all of our money wouldn't fall down \n",
        "\n",
        "---\n",
        "we Multiplied 252 days as these are number of the days stock would be traded\n",
        "\n",
        "\n"
      ],
      "metadata": {
        "id": "hRtX-BZIZW0B"
      }
    },
    {
      "cell_type": "code",
      "source": [
        "covariance_portfolio"
      ],
      "metadata": {
        "colab": {
          "base_uri": "https://localhost:8080/",
          "height": 237
        },
        "id": "QMYq4ogEZ_xI",
        "outputId": "5c6f347b-ecb3-4cb6-9866-dd1b6d5fcf5e"
      },
      "execution_count": null,
      "outputs": [
        {
          "output_type": "execute_result",
          "data": {
            "text/plain": [
              "           AAPL      AMZN       AXP     GOOGL       IBM       NKE\n",
              "AAPL   0.062577  0.035510  0.007383  0.033364  0.003103  0.018065\n",
              "AMZN   0.035510  0.057798  0.005791  0.034272 -0.000264  0.017036\n",
              "AXP    0.007383  0.005791  0.077956  0.017616  0.018899  0.017769\n",
              "GOOGL  0.033364  0.034272  0.017616  0.059080  0.003181  0.018677\n",
              "IBM    0.003103 -0.000264  0.018899  0.003181  0.052250  0.004830\n",
              "NKE    0.018065  0.017036  0.017769  0.018677  0.004830  0.078500"
            ],
            "text/html": [
              "\n",
              "  <div id=\"df-09ddc0cf-fb16-4bbb-b0f3-8947ebbd0f56\">\n",
              "    <div class=\"colab-df-container\">\n",
              "      <div>\n",
              "<style scoped>\n",
              "    .dataframe tbody tr th:only-of-type {\n",
              "        vertical-align: middle;\n",
              "    }\n",
              "\n",
              "    .dataframe tbody tr th {\n",
              "        vertical-align: top;\n",
              "    }\n",
              "\n",
              "    .dataframe thead th {\n",
              "        text-align: right;\n",
              "    }\n",
              "</style>\n",
              "<table border=\"1\" class=\"dataframe\">\n",
              "  <thead>\n",
              "    <tr style=\"text-align: right;\">\n",
              "      <th></th>\n",
              "      <th>AAPL</th>\n",
              "      <th>AMZN</th>\n",
              "      <th>AXP</th>\n",
              "      <th>GOOGL</th>\n",
              "      <th>IBM</th>\n",
              "      <th>NKE</th>\n",
              "    </tr>\n",
              "  </thead>\n",
              "  <tbody>\n",
              "    <tr>\n",
              "      <th>AAPL</th>\n",
              "      <td>0.062577</td>\n",
              "      <td>0.035510</td>\n",
              "      <td>0.007383</td>\n",
              "      <td>0.033364</td>\n",
              "      <td>0.003103</td>\n",
              "      <td>0.018065</td>\n",
              "    </tr>\n",
              "    <tr>\n",
              "      <th>AMZN</th>\n",
              "      <td>0.035510</td>\n",
              "      <td>0.057798</td>\n",
              "      <td>0.005791</td>\n",
              "      <td>0.034272</td>\n",
              "      <td>-0.000264</td>\n",
              "      <td>0.017036</td>\n",
              "    </tr>\n",
              "    <tr>\n",
              "      <th>AXP</th>\n",
              "      <td>0.007383</td>\n",
              "      <td>0.005791</td>\n",
              "      <td>0.077956</td>\n",
              "      <td>0.017616</td>\n",
              "      <td>0.018899</td>\n",
              "      <td>0.017769</td>\n",
              "    </tr>\n",
              "    <tr>\n",
              "      <th>GOOGL</th>\n",
              "      <td>0.033364</td>\n",
              "      <td>0.034272</td>\n",
              "      <td>0.017616</td>\n",
              "      <td>0.059080</td>\n",
              "      <td>0.003181</td>\n",
              "      <td>0.018677</td>\n",
              "    </tr>\n",
              "    <tr>\n",
              "      <th>IBM</th>\n",
              "      <td>0.003103</td>\n",
              "      <td>-0.000264</td>\n",
              "      <td>0.018899</td>\n",
              "      <td>0.003181</td>\n",
              "      <td>0.052250</td>\n",
              "      <td>0.004830</td>\n",
              "    </tr>\n",
              "    <tr>\n",
              "      <th>NKE</th>\n",
              "      <td>0.018065</td>\n",
              "      <td>0.017036</td>\n",
              "      <td>0.017769</td>\n",
              "      <td>0.018677</td>\n",
              "      <td>0.004830</td>\n",
              "      <td>0.078500</td>\n",
              "    </tr>\n",
              "  </tbody>\n",
              "</table>\n",
              "</div>\n",
              "      <button class=\"colab-df-convert\" onclick=\"convertToInteractive('df-09ddc0cf-fb16-4bbb-b0f3-8947ebbd0f56')\"\n",
              "              title=\"Convert this dataframe to an interactive table.\"\n",
              "              style=\"display:none;\">\n",
              "        \n",
              "  <svg xmlns=\"http://www.w3.org/2000/svg\" height=\"24px\"viewBox=\"0 0 24 24\"\n",
              "       width=\"24px\">\n",
              "    <path d=\"M0 0h24v24H0V0z\" fill=\"none\"/>\n",
              "    <path d=\"M18.56 5.44l.94 2.06.94-2.06 2.06-.94-2.06-.94-.94-2.06-.94 2.06-2.06.94zm-11 1L8.5 8.5l.94-2.06 2.06-.94-2.06-.94L8.5 2.5l-.94 2.06-2.06.94zm10 10l.94 2.06.94-2.06 2.06-.94-2.06-.94-.94-2.06-.94 2.06-2.06.94z\"/><path d=\"M17.41 7.96l-1.37-1.37c-.4-.4-.92-.59-1.43-.59-.52 0-1.04.2-1.43.59L10.3 9.45l-7.72 7.72c-.78.78-.78 2.05 0 2.83L4 21.41c.39.39.9.59 1.41.59.51 0 1.02-.2 1.41-.59l7.78-7.78 2.81-2.81c.8-.78.8-2.07 0-2.86zM5.41 20L4 18.59l7.72-7.72 1.47 1.35L5.41 20z\"/>\n",
              "  </svg>\n",
              "      </button>\n",
              "      \n",
              "  <style>\n",
              "    .colab-df-container {\n",
              "      display:flex;\n",
              "      flex-wrap:wrap;\n",
              "      gap: 12px;\n",
              "    }\n",
              "\n",
              "    .colab-df-convert {\n",
              "      background-color: #E8F0FE;\n",
              "      border: none;\n",
              "      border-radius: 50%;\n",
              "      cursor: pointer;\n",
              "      display: none;\n",
              "      fill: #1967D2;\n",
              "      height: 32px;\n",
              "      padding: 0 0 0 0;\n",
              "      width: 32px;\n",
              "    }\n",
              "\n",
              "    .colab-df-convert:hover {\n",
              "      background-color: #E2EBFA;\n",
              "      box-shadow: 0px 1px 2px rgba(60, 64, 67, 0.3), 0px 1px 3px 1px rgba(60, 64, 67, 0.15);\n",
              "      fill: #174EA6;\n",
              "    }\n",
              "\n",
              "    [theme=dark] .colab-df-convert {\n",
              "      background-color: #3B4455;\n",
              "      fill: #D2E3FC;\n",
              "    }\n",
              "\n",
              "    [theme=dark] .colab-df-convert:hover {\n",
              "      background-color: #434B5C;\n",
              "      box-shadow: 0px 1px 3px 1px rgba(0, 0, 0, 0.15);\n",
              "      filter: drop-shadow(0px 1px 2px rgba(0, 0, 0, 0.3));\n",
              "      fill: #FFFFFF;\n",
              "    }\n",
              "  </style>\n",
              "\n",
              "      <script>\n",
              "        const buttonEl =\n",
              "          document.querySelector('#df-09ddc0cf-fb16-4bbb-b0f3-8947ebbd0f56 button.colab-df-convert');\n",
              "        buttonEl.style.display =\n",
              "          google.colab.kernel.accessAllowed ? 'block' : 'none';\n",
              "\n",
              "        async function convertToInteractive(key) {\n",
              "          const element = document.querySelector('#df-09ddc0cf-fb16-4bbb-b0f3-8947ebbd0f56');\n",
              "          const dataTable =\n",
              "            await google.colab.kernel.invokeFunction('convertToInteractive',\n",
              "                                                     [key], {});\n",
              "          if (!dataTable) return;\n",
              "\n",
              "          const docLinkHtml = 'Like what you see? Visit the ' +\n",
              "            '<a target=\"_blank\" href=https://colab.research.google.com/notebooks/data_table.ipynb>data table notebook</a>'\n",
              "            + ' to learn more about interactive tables.';\n",
              "          element.innerHTML = '';\n",
              "          dataTable['output_type'] = 'display_data';\n",
              "          await google.colab.output.renderOutput(dataTable, element);\n",
              "          const docLink = document.createElement('div');\n",
              "          docLink.innerHTML = docLinkHtml;\n",
              "          element.appendChild(docLink);\n",
              "        }\n",
              "      </script>\n",
              "    </div>\n",
              "  </div>\n",
              "  "
            ]
          },
          "metadata": {},
          "execution_count": 7
        }
      ]
    },
    {
      "cell_type": "code",
      "source": [
        "import numpy as np "
      ],
      "metadata": {
        "id": "1xHGoUo9eG5x"
      },
      "execution_count": null,
      "outputs": []
    },
    {
      "cell_type": "code",
      "source": [
        "portfolio_variance=np.transpose(weights_of_portfolio)@covariance_portfolio@weights_of_portfolio"
      ],
      "metadata": {
        "id": "40lrvpAnbm4h"
      },
      "execution_count": null,
      "outputs": []
    },
    {
      "cell_type": "markdown",
      "source": [
        "The @ symbol signifies the matmul symbol which would signify the matrix multiplication of covariance with their respective weights we multiply it twice so that element of each weight gets covered "
      ],
      "metadata": {
        "id": "AHtN0PLWpUVt"
      }
    },
    {
      "cell_type": "code",
      "source": [
        "portfolio_volatility=np.sqrt(portfolio_variance)"
      ],
      "metadata": {
        "id": "_jw3JCTDeLli"
      },
      "execution_count": null,
      "outputs": []
    },
    {
      "cell_type": "code",
      "source": [
        "portfolio_volatility"
      ],
      "metadata": {
        "colab": {
          "base_uri": "https://localhost:8080/"
        },
        "id": "JWQlj1Q_sUvG",
        "outputId": "1f932bde-ce7e-496b-9c50-9eda907d8778"
      },
      "execution_count": null,
      "outputs": [
        {
          "output_type": "execute_result",
          "data": {
            "text/plain": [
              "0.16799617605631986"
            ]
          },
          "metadata": {},
          "execution_count": 11
        }
      ]
    },
    {
      "cell_type": "code",
      "source": [
        "port_returns=[]\n",
        "port_volatility=[]\n",
        "port_weights=[]\n",
        "num_assets=len(data.columns)\n",
        "num_portfolios=10000\n",
        "\n",
        "individual_returns=data.resample('M').last().pct_change().mean()"
      ],
      "metadata": {
        "id": "hE7CFzKMsXyx"
      },
      "execution_count": null,
      "outputs": []
    },
    {
      "cell_type": "code",
      "source": [
        "port_returns"
      ],
      "metadata": {
        "colab": {
          "base_uri": "https://localhost:8080/"
        },
        "id": "Vtki2uBZBsEa",
        "outputId": "4b9dee1a-1435-4cf1-e3e0-34b8955e432e"
      },
      "execution_count": null,
      "outputs": [
        {
          "output_type": "execute_result",
          "data": {
            "text/plain": [
              "[]"
            ]
          },
          "metadata": {},
          "execution_count": 13
        }
      ]
    },
    {
      "cell_type": "markdown",
      "source": [
        "We will use the modern portfolio theory for this use in this we get to know that whenever we have to make a portfolio of a stock we have to maximize the returns for a given stock but if we can not find a maximum value we will look to minimize the risk for a particular stock \n",
        "\n",
        "---\n",
        "For Minimizing risk for a particular stock we will find the volatilty with respect to the stock by initializing random weights and we will find the minimum risk for that particular weight\n"
      ],
      "metadata": {
        "id": "N0KLmD1ZHZIo"
      }
    },
    {
      "cell_type": "code",
      "source": [
        "individual_returns"
      ],
      "metadata": {
        "colab": {
          "base_uri": "https://localhost:8080/"
        },
        "id": "8LBaehMJH_Eo",
        "outputId": "87e752bd-e78e-40d0-aad0-b01adf25fdb7"
      },
      "execution_count": null,
      "outputs": [
        {
          "output_type": "execute_result",
          "data": {
            "text/plain": [
              "AAPL     0.029987\n",
              "AMZN     0.005151\n",
              "AXP      0.034585\n",
              "GOOGL    0.044839\n",
              "IBM      0.021266\n",
              "NKE      0.023558\n",
              "dtype: float64"
            ]
          },
          "metadata": {},
          "execution_count": 14
        }
      ]
    },
    {
      "cell_type": "code",
      "source": [
        "len(individual_returns)"
      ],
      "metadata": {
        "colab": {
          "base_uri": "https://localhost:8080/"
        },
        "id": "g__AaABKcqRj",
        "outputId": "939cafe5-e07e-4311-d44b-50d920e55ce9"
      },
      "execution_count": null,
      "outputs": [
        {
          "output_type": "execute_result",
          "data": {
            "text/plain": [
              "6"
            ]
          },
          "metadata": {},
          "execution_count": 15
        }
      ]
    },
    {
      "cell_type": "code",
      "source": [
        "for port in range(num_portfolios):\n",
        "  weights=np.random.random(num_assets)\n",
        "  weights=weights/np.sum(weights)\n",
        "  port_weights.append(weights)\n",
        "  returns=np.dot(weights,individual_returns)\n",
        "  port_returns.append(returns)\n",
        "  var=covariance_portfolio.mul(weights,axis=0).mul(weights,axis=1).sum().sum()\n",
        "  var=var*250\n",
        "  sd=np.sqrt(var)\n",
        "  port_volatility.append(sd)"
      ],
      "metadata": {
        "id": "grzfBG5fIS-H"
      },
      "execution_count": null,
      "outputs": []
    },
    {
      "cell_type": "markdown",
      "source": [
        "We will store random weights and then look returns and variance for each weight and store them in a list \n",
        "\n",
        "---\n",
        "Now we are using 10000 variables in the dataset so that we can get a overall weights of all combined we can use even more but for this project I am taking 10000 iterations\n",
        "\n",
        "---\n",
        "We will multiply the random weights to find the volatility of the stock for that weight and then find the returns from that stock as well to see the risk vs reward ratio to decide the final thing \n",
        "\n"
      ],
      "metadata": {
        "id": "zjaLGbldaWt7"
      }
    },
    {
      "cell_type": "code",
      "source": [
        "len(port_weights)"
      ],
      "metadata": {
        "colab": {
          "base_uri": "https://localhost:8080/"
        },
        "id": "Nhk8HNsSfcz7",
        "outputId": "c48199ec-d1d8-4726-9678-afb3341d935a"
      },
      "execution_count": null,
      "outputs": [
        {
          "output_type": "execute_result",
          "data": {
            "text/plain": [
              "10000"
            ]
          },
          "metadata": {},
          "execution_count": 17
        }
      ]
    },
    {
      "cell_type": "code",
      "source": [
        "len(port_returns)"
      ],
      "metadata": {
        "colab": {
          "base_uri": "https://localhost:8080/"
        },
        "id": "R2WMZWOxgA6y",
        "outputId": "77cfb98c-851e-4db5-e924-2cad180a74c0"
      },
      "execution_count": null,
      "outputs": [
        {
          "output_type": "execute_result",
          "data": {
            "text/plain": [
              "10000"
            ]
          },
          "metadata": {},
          "execution_count": 18
        }
      ]
    },
    {
      "cell_type": "code",
      "source": [
        "len(port_volatility)"
      ],
      "metadata": {
        "colab": {
          "base_uri": "https://localhost:8080/"
        },
        "id": "GnAQwK4MgEd_",
        "outputId": "2433e20c-37ae-4861-8165-7158f74630e4"
      },
      "execution_count": null,
      "outputs": [
        {
          "output_type": "execute_result",
          "data": {
            "text/plain": [
              "10000"
            ]
          },
          "metadata": {},
          "execution_count": 19
        }
      ]
    },
    {
      "cell_type": "code",
      "source": [
        "data1={'Volatility':port_volatility,'Returns':port_returns}\n",
        "for counter,symbol in enumerate(data.columns.tolist()):\n",
        "  data1[symbol+'weight']=[w[counter] for w in port_weights]\n"
      ],
      "metadata": {
        "id": "rXwuntQxB37i"
      },
      "execution_count": null,
      "outputs": []
    },
    {
      "cell_type": "markdown",
      "source": [
        "We will now move forward to make a dataframe of the dataset to find the minimum value and the weight ratio \n",
        "\n",
        "---\n",
        "This will be used to find the minimum volatilty for the maximum returns so that we find the portfolio \n"
      ],
      "metadata": {
        "id": "gE2on_3pd1di"
      }
    },
    {
      "cell_type": "code",
      "source": [
        "portfolios=pd.DataFrame(data1)"
      ],
      "metadata": {
        "id": "0F4ppc-yB_Dz"
      },
      "execution_count": null,
      "outputs": []
    },
    {
      "cell_type": "code",
      "source": [
        "portfolios"
      ],
      "metadata": {
        "colab": {
          "base_uri": "https://localhost:8080/",
          "height": 423
        },
        "id": "pEMB834NbC27",
        "outputId": "f7cda312-5483-4386-c7bf-2b99f33bd8ed"
      },
      "execution_count": null,
      "outputs": [
        {
          "output_type": "execute_result",
          "data": {
            "text/plain": [
              "      Volatility   Returns  AAPLweight  AMZNweight  AXPweight  GOOGLweight  \\\n",
              "0       2.478364  0.031823    0.209680    0.013144   0.086910     0.321952   \n",
              "1       2.519213  0.026353    0.146105    0.194558   0.237859     0.143628   \n",
              "2       2.656529  0.024920    0.237266    0.229948   0.323201     0.027974   \n",
              "3       2.837063  0.028380    0.104908    0.175616   0.060564     0.318762   \n",
              "4       2.895391  0.024857    0.305180    0.314383   0.023345     0.240966   \n",
              "...          ...       ...         ...         ...        ...          ...   \n",
              "9995    2.915121  0.020388    0.289782    0.398622   0.010490     0.109718   \n",
              "9996    2.785669  0.023073    0.174314    0.393285   0.097803     0.224782   \n",
              "9997    2.414039  0.026750    0.176179    0.159090   0.200839     0.151518   \n",
              "9998    2.705057  0.022608    0.151382    0.375627   0.237353     0.114813   \n",
              "9999    2.462796  0.026198    0.208932    0.007317   0.084265     0.061634   \n",
              "\n",
              "      IBMweight  NKEweight  \n",
              "0      0.284058   0.084256  \n",
              "1      0.105733   0.172117  \n",
              "2      0.039082   0.142529  \n",
              "3      0.031055   0.309094  \n",
              "4      0.114220   0.001906  \n",
              "...         ...        ...  \n",
              "9995   0.063896   0.127492  \n",
              "9996   0.099805   0.010011  \n",
              "9997   0.196793   0.115581  \n",
              "9998   0.030547   0.090278  \n",
              "9999   0.353060   0.284792  \n",
              "\n",
              "[10000 rows x 8 columns]"
            ],
            "text/html": [
              "\n",
              "  <div id=\"df-fc656968-8f43-48e1-87a5-e7bfda29a278\">\n",
              "    <div class=\"colab-df-container\">\n",
              "      <div>\n",
              "<style scoped>\n",
              "    .dataframe tbody tr th:only-of-type {\n",
              "        vertical-align: middle;\n",
              "    }\n",
              "\n",
              "    .dataframe tbody tr th {\n",
              "        vertical-align: top;\n",
              "    }\n",
              "\n",
              "    .dataframe thead th {\n",
              "        text-align: right;\n",
              "    }\n",
              "</style>\n",
              "<table border=\"1\" class=\"dataframe\">\n",
              "  <thead>\n",
              "    <tr style=\"text-align: right;\">\n",
              "      <th></th>\n",
              "      <th>Volatility</th>\n",
              "      <th>Returns</th>\n",
              "      <th>AAPLweight</th>\n",
              "      <th>AMZNweight</th>\n",
              "      <th>AXPweight</th>\n",
              "      <th>GOOGLweight</th>\n",
              "      <th>IBMweight</th>\n",
              "      <th>NKEweight</th>\n",
              "    </tr>\n",
              "  </thead>\n",
              "  <tbody>\n",
              "    <tr>\n",
              "      <th>0</th>\n",
              "      <td>2.478364</td>\n",
              "      <td>0.031823</td>\n",
              "      <td>0.209680</td>\n",
              "      <td>0.013144</td>\n",
              "      <td>0.086910</td>\n",
              "      <td>0.321952</td>\n",
              "      <td>0.284058</td>\n",
              "      <td>0.084256</td>\n",
              "    </tr>\n",
              "    <tr>\n",
              "      <th>1</th>\n",
              "      <td>2.519213</td>\n",
              "      <td>0.026353</td>\n",
              "      <td>0.146105</td>\n",
              "      <td>0.194558</td>\n",
              "      <td>0.237859</td>\n",
              "      <td>0.143628</td>\n",
              "      <td>0.105733</td>\n",
              "      <td>0.172117</td>\n",
              "    </tr>\n",
              "    <tr>\n",
              "      <th>2</th>\n",
              "      <td>2.656529</td>\n",
              "      <td>0.024920</td>\n",
              "      <td>0.237266</td>\n",
              "      <td>0.229948</td>\n",
              "      <td>0.323201</td>\n",
              "      <td>0.027974</td>\n",
              "      <td>0.039082</td>\n",
              "      <td>0.142529</td>\n",
              "    </tr>\n",
              "    <tr>\n",
              "      <th>3</th>\n",
              "      <td>2.837063</td>\n",
              "      <td>0.028380</td>\n",
              "      <td>0.104908</td>\n",
              "      <td>0.175616</td>\n",
              "      <td>0.060564</td>\n",
              "      <td>0.318762</td>\n",
              "      <td>0.031055</td>\n",
              "      <td>0.309094</td>\n",
              "    </tr>\n",
              "    <tr>\n",
              "      <th>4</th>\n",
              "      <td>2.895391</td>\n",
              "      <td>0.024857</td>\n",
              "      <td>0.305180</td>\n",
              "      <td>0.314383</td>\n",
              "      <td>0.023345</td>\n",
              "      <td>0.240966</td>\n",
              "      <td>0.114220</td>\n",
              "      <td>0.001906</td>\n",
              "    </tr>\n",
              "    <tr>\n",
              "      <th>...</th>\n",
              "      <td>...</td>\n",
              "      <td>...</td>\n",
              "      <td>...</td>\n",
              "      <td>...</td>\n",
              "      <td>...</td>\n",
              "      <td>...</td>\n",
              "      <td>...</td>\n",
              "      <td>...</td>\n",
              "    </tr>\n",
              "    <tr>\n",
              "      <th>9995</th>\n",
              "      <td>2.915121</td>\n",
              "      <td>0.020388</td>\n",
              "      <td>0.289782</td>\n",
              "      <td>0.398622</td>\n",
              "      <td>0.010490</td>\n",
              "      <td>0.109718</td>\n",
              "      <td>0.063896</td>\n",
              "      <td>0.127492</td>\n",
              "    </tr>\n",
              "    <tr>\n",
              "      <th>9996</th>\n",
              "      <td>2.785669</td>\n",
              "      <td>0.023073</td>\n",
              "      <td>0.174314</td>\n",
              "      <td>0.393285</td>\n",
              "      <td>0.097803</td>\n",
              "      <td>0.224782</td>\n",
              "      <td>0.099805</td>\n",
              "      <td>0.010011</td>\n",
              "    </tr>\n",
              "    <tr>\n",
              "      <th>9997</th>\n",
              "      <td>2.414039</td>\n",
              "      <td>0.026750</td>\n",
              "      <td>0.176179</td>\n",
              "      <td>0.159090</td>\n",
              "      <td>0.200839</td>\n",
              "      <td>0.151518</td>\n",
              "      <td>0.196793</td>\n",
              "      <td>0.115581</td>\n",
              "    </tr>\n",
              "    <tr>\n",
              "      <th>9998</th>\n",
              "      <td>2.705057</td>\n",
              "      <td>0.022608</td>\n",
              "      <td>0.151382</td>\n",
              "      <td>0.375627</td>\n",
              "      <td>0.237353</td>\n",
              "      <td>0.114813</td>\n",
              "      <td>0.030547</td>\n",
              "      <td>0.090278</td>\n",
              "    </tr>\n",
              "    <tr>\n",
              "      <th>9999</th>\n",
              "      <td>2.462796</td>\n",
              "      <td>0.026198</td>\n",
              "      <td>0.208932</td>\n",
              "      <td>0.007317</td>\n",
              "      <td>0.084265</td>\n",
              "      <td>0.061634</td>\n",
              "      <td>0.353060</td>\n",
              "      <td>0.284792</td>\n",
              "    </tr>\n",
              "  </tbody>\n",
              "</table>\n",
              "<p>10000 rows × 8 columns</p>\n",
              "</div>\n",
              "      <button class=\"colab-df-convert\" onclick=\"convertToInteractive('df-fc656968-8f43-48e1-87a5-e7bfda29a278')\"\n",
              "              title=\"Convert this dataframe to an interactive table.\"\n",
              "              style=\"display:none;\">\n",
              "        \n",
              "  <svg xmlns=\"http://www.w3.org/2000/svg\" height=\"24px\"viewBox=\"0 0 24 24\"\n",
              "       width=\"24px\">\n",
              "    <path d=\"M0 0h24v24H0V0z\" fill=\"none\"/>\n",
              "    <path d=\"M18.56 5.44l.94 2.06.94-2.06 2.06-.94-2.06-.94-.94-2.06-.94 2.06-2.06.94zm-11 1L8.5 8.5l.94-2.06 2.06-.94-2.06-.94L8.5 2.5l-.94 2.06-2.06.94zm10 10l.94 2.06.94-2.06 2.06-.94-2.06-.94-.94-2.06-.94 2.06-2.06.94z\"/><path d=\"M17.41 7.96l-1.37-1.37c-.4-.4-.92-.59-1.43-.59-.52 0-1.04.2-1.43.59L10.3 9.45l-7.72 7.72c-.78.78-.78 2.05 0 2.83L4 21.41c.39.39.9.59 1.41.59.51 0 1.02-.2 1.41-.59l7.78-7.78 2.81-2.81c.8-.78.8-2.07 0-2.86zM5.41 20L4 18.59l7.72-7.72 1.47 1.35L5.41 20z\"/>\n",
              "  </svg>\n",
              "      </button>\n",
              "      \n",
              "  <style>\n",
              "    .colab-df-container {\n",
              "      display:flex;\n",
              "      flex-wrap:wrap;\n",
              "      gap: 12px;\n",
              "    }\n",
              "\n",
              "    .colab-df-convert {\n",
              "      background-color: #E8F0FE;\n",
              "      border: none;\n",
              "      border-radius: 50%;\n",
              "      cursor: pointer;\n",
              "      display: none;\n",
              "      fill: #1967D2;\n",
              "      height: 32px;\n",
              "      padding: 0 0 0 0;\n",
              "      width: 32px;\n",
              "    }\n",
              "\n",
              "    .colab-df-convert:hover {\n",
              "      background-color: #E2EBFA;\n",
              "      box-shadow: 0px 1px 2px rgba(60, 64, 67, 0.3), 0px 1px 3px 1px rgba(60, 64, 67, 0.15);\n",
              "      fill: #174EA6;\n",
              "    }\n",
              "\n",
              "    [theme=dark] .colab-df-convert {\n",
              "      background-color: #3B4455;\n",
              "      fill: #D2E3FC;\n",
              "    }\n",
              "\n",
              "    [theme=dark] .colab-df-convert:hover {\n",
              "      background-color: #434B5C;\n",
              "      box-shadow: 0px 1px 3px 1px rgba(0, 0, 0, 0.15);\n",
              "      filter: drop-shadow(0px 1px 2px rgba(0, 0, 0, 0.3));\n",
              "      fill: #FFFFFF;\n",
              "    }\n",
              "  </style>\n",
              "\n",
              "      <script>\n",
              "        const buttonEl =\n",
              "          document.querySelector('#df-fc656968-8f43-48e1-87a5-e7bfda29a278 button.colab-df-convert');\n",
              "        buttonEl.style.display =\n",
              "          google.colab.kernel.accessAllowed ? 'block' : 'none';\n",
              "\n",
              "        async function convertToInteractive(key) {\n",
              "          const element = document.querySelector('#df-fc656968-8f43-48e1-87a5-e7bfda29a278');\n",
              "          const dataTable =\n",
              "            await google.colab.kernel.invokeFunction('convertToInteractive',\n",
              "                                                     [key], {});\n",
              "          if (!dataTable) return;\n",
              "\n",
              "          const docLinkHtml = 'Like what you see? Visit the ' +\n",
              "            '<a target=\"_blank\" href=https://colab.research.google.com/notebooks/data_table.ipynb>data table notebook</a>'\n",
              "            + ' to learn more about interactive tables.';\n",
              "          element.innerHTML = '';\n",
              "          dataTable['output_type'] = 'display_data';\n",
              "          await google.colab.output.renderOutput(dataTable, element);\n",
              "          const docLink = document.createElement('div');\n",
              "          docLink.innerHTML = docLinkHtml;\n",
              "          element.appendChild(docLink);\n",
              "        }\n",
              "      </script>\n",
              "    </div>\n",
              "  </div>\n",
              "  "
            ]
          },
          "metadata": {},
          "execution_count": 22
        }
      ]
    },
    {
      "cell_type": "code",
      "source": [
        "minimum_volatility=portfolios.iloc[portfolios['Volatility'].idxmin()]"
      ],
      "metadata": {
        "id": "Js6rYg6Mdh0q"
      },
      "execution_count": null,
      "outputs": []
    },
    {
      "cell_type": "code",
      "source": [
        "minimum_volatility"
      ],
      "metadata": {
        "colab": {
          "base_uri": "https://localhost:8080/"
        },
        "id": "vJ0zZQNB0v9s",
        "outputId": "fd69da5a-f60b-4850-ab9c-e4d3e96df792"
      },
      "execution_count": null,
      "outputs": [
        {
          "output_type": "execute_result",
          "data": {
            "text/plain": [
              "Volatility     2.324615\n",
              "Returns        0.022415\n",
              "AAPLweight     0.109475\n",
              "AMZNweight     0.197720\n",
              "AXPweight      0.119185\n",
              "GOOGLweight    0.062907\n",
              "IBMweight      0.375141\n",
              "NKEweight      0.135571\n",
              "Name: 329, dtype: float64"
            ]
          },
          "metadata": {},
          "execution_count": 26
        }
      ]
    },
    {
      "cell_type": "markdown",
      "source": [
        "This shows us the minimum risk of a portfolio with it's respective returns"
      ],
      "metadata": {
        "id": "U9_Y0tCg06R0"
      }
    },
    {
      "cell_type": "code",
      "source": [
        "rf=0.01\n",
        "sharpe=portfolios.iloc[((portfolios['Returns']-rf)/portfolios['Volatility']).idxmax()]"
      ],
      "metadata": {
        "id": "DjhWalk002Bp"
      },
      "execution_count": null,
      "outputs": []
    },
    {
      "cell_type": "markdown",
      "source": [
        "We are finding the sharpe ratio to find the sharpe ratio we would introduce a risk factor which predefined risk factor is the risk exposures which drive the return"
      ],
      "metadata": {
        "id": "puIvXwBb1seS"
      }
    },
    {
      "cell_type": "code",
      "source": [
        "sharpe\n"
      ],
      "metadata": {
        "colab": {
          "base_uri": "https://localhost:8080/"
        },
        "id": "1aWIYewL2nGH",
        "outputId": "438f81cf-d5cf-4c91-94c6-b30a5528cccf"
      },
      "execution_count": null,
      "outputs": [
        {
          "output_type": "execute_result",
          "data": {
            "text/plain": [
              "Volatility     2.720726\n",
              "Returns        0.035865\n",
              "AAPLweight     0.143528\n",
              "AMZNweight     0.010881\n",
              "AXPweight      0.124489\n",
              "GOOGLweight    0.500272\n",
              "IBMweight      0.189694\n",
              "NKEweight      0.031136\n",
              "Name: 9946, dtype: float64"
            ]
          },
          "metadata": {},
          "execution_count": 33
        }
      ]
    },
    {
      "cell_type": "code",
      "source": [],
      "metadata": {
        "id": "5hij_Lqz2oS0"
      },
      "execution_count": null,
      "outputs": []
    }
  ]
}